{
 "cells": [
  {
   "cell_type": "code",
   "execution_count": 29,
   "id": "3936d521-0ea4-49f1-bebd-a17b0d96a321",
   "metadata": {
    "tags": []
   },
   "outputs": [],
   "source": [
    "import sys\n",
    "import os\n",
    "from glob import glob\n",
    "from pathlib import Path\n",
    "from collections import defaultdict\n",
    "import shutil\n",
    "\n",
    "import ecif\n",
    "import Bio\n",
    "from Bio.PDB import PDBParser\n",
    "import mol2parser\n",
    "import progressbar\n",
    "import pandas as pd\n",
    "import numpy as np\n",
    "from rdkit import Chem\n",
    "from scipy import spatial\n",
    "from xgboost import XGBRegressor\n",
    "from scipy.stats import pearsonr, spearmanr, kendalltau\n",
    "from sklearn.metrics import mean_squared_error\n",
    "import matplotlib\n",
    "import matplotlib.pyplot as plt\n",
    "from sklearn.model_selection import StratifiedShuffleSplit\n",
    "from molfeat.trans.pretrained.hf_transformers import PretrainedHFTransformer\n",
    "\n",
    "pd.options.mode.chained_assignment = None\n",
    "%matplotlib inline"
   ]
  },
  {
   "cell_type": "markdown",
   "id": "c1aa06e9-b925-4270-a55b-50d18343141d",
   "metadata": {
    "tags": []
   },
   "source": [
    "*Python and Libraries Versions*:\n",
    "\n",
    "**Python Version**: 3.8.16\n",
    "\n",
    "**Biopython version**: 1.77\n",
    "\n",
    "**Progressbar version**: 4.2.0\n",
    "\n",
    "**Pandas version**: 1.5.3\n",
    "\n",
    "**Numpy version**: 1.23.5\n",
    "\n",
    "**RDKit version**: 2022.09.5\n",
    "\n",
    "**Scipy version**: 1.10.1\n",
    "\n",
    "**XGBoost version**: 1.7.6\n",
    "\n",
    "**Sklearn version**: 1.2.1\n",
    "\n",
    "**Matplotlib version**: 3.7.1\n",
    "\n",
    "**MolFeat version**: 0.8.5\n",
    "\n",
    "**Jupyter Lab**: 3.6.1\n",
    "\n"
   ]
  },
  {
   "cell_type": "markdown",
   "id": "d2e61514-aa16-40c7-b16a-57365829a6f0",
   "metadata": {},
   "source": [
    "**Protein-Ligand Complexes Directory**"
   ]
  },
  {
   "cell_type": "code",
   "execution_count": null,
   "id": "e7e8d7e6-22f0-4072-b0d1-9ff3fec49107",
   "metadata": {
    "tags": []
   },
   "outputs": [],
   "source": [
    "# determine folders which your PL complexes are located.\n",
    "\n",
    "pdbbind_refined_set_2020_path = r\"\\refined-set_2020\"\n",
    "casf_2016_path = r\"\\CASF-2016\"\n",
    "feature_vector_directory = r\".\\files\\feature_vector\""
   ]
  },
  {
   "cell_type": "markdown",
   "id": "ba888e4b-ef6b-4665-a6f6-0f61807dec13",
   "metadata": {
    "jp-MarkdownHeadingCollapsed": true,
    "tags": []
   },
   "source": [
    "# 1- Feature Generation Functions"
   ]
  },
  {
   "cell_type": "markdown",
   "id": "682a3706-7d7f-4b78-a58a-f4d0acff3cb2",
   "metadata": {
    "jp-MarkdownHeadingCollapsed": true,
    "tags": []
   },
   "source": [
    "## 1-1- Protein-Ligand Complexes"
   ]
  },
  {
   "cell_type": "markdown",
   "id": "ad4c2549-c2bd-4673-a849-46bdcdac88c0",
   "metadata": {
    "jp-MarkdownHeadingCollapsed": true,
    "tags": []
   },
   "source": [
    "### 1-1-1- RF-Score and GB-Score"
   ]
  },
  {
   "cell_type": "code",
   "execution_count": null,
   "id": "dccf647c-eb1a-4376-a185-07775561881c",
   "metadata": {
    "tags": []
   },
   "outputs": [],
   "source": [
    "#Parse a pdb file and output a dictionary contains AA classes with their elemental atom types.\n",
    "#mol2 file is parsed by mol2parser (https://github.com/miladrayka/mol2parser).\n",
    "\n",
    "def pdb_parser(pdbfile, amino_acid_classes):\n",
    "\n",
    "    number_of_groups = len(list(amino_acid_classes))\n",
    "\n",
    "    amino_acid_groups = zip([f\"group{i}\" for i in range(1, number_of_groups + 1)],\n",
    "                            amino_acid_classes)\n",
    "\n",
    "    parser = PDBParser(PERMISSIVE=True, QUIET=True)\n",
    "    protein = parser.get_structure(\"\", pdbfile)\n",
    "\n",
    "    extracted_protein_atoms = {f\"group{i}\": defaultdict(\n",
    "        list) for i in range(1, number_of_groups + 1)}\n",
    "\n",
    "    for name, group in amino_acid_groups:\n",
    "        for residue in protein.get_residues():\n",
    "            if residue.get_resname() in group:\n",
    "                for atom in residue.get_atoms():\n",
    "                    extracted_protein_atoms[name][atom.element].append(\n",
    "                        list(atom.coord))\n",
    "\n",
    "    return extracted_protein_atoms"
   ]
  },
  {
   "cell_type": "code",
   "execution_count": null,
   "id": "26a746b5-7f73-42ef-a1e6-405aaef75532",
   "metadata": {},
   "outputs": [],
   "source": [
    "# Give a weight to a contact between two atom types based on their distance using 1/d**2 term \n",
    "#(used in GB-Score) and sums all same pair.\n",
    "\n",
    "def weighting_sum(distances, cutoff, exp):\n",
    "\n",
    "    selected_distances = distances[distances < cutoff]\n",
    "\n",
    "    feature = sum(list(map(lambda x: 1.0 / (x ** exp), selected_distances)))\n",
    "\n",
    "    return feature\n",
    "\n",
    "# Count same pair atom types contact (used in RF-Score). \n",
    "\n",
    "def counting_sum(distances, cutoff):\n",
    "    \n",
    "    selected_distances = distances[distances < cutoff]\n",
    "    \n",
    "    feature = len(selected_distances)\n",
    "    \n",
    "    return feature"
   ]
  },
  {
   "cell_type": "code",
   "execution_count": null,
   "id": "340fbe9f-fcd1-4c5e-b8fe-304f62c13a10",
   "metadata": {
    "tags": []
   },
   "outputs": [],
   "source": [
    "#Feature generation function for both RF-Score (feature_type=\"counting_sum\") \n",
    "#and GB-Score (exp=2, feature_type=\"weighting_sum\"). \n",
    "\n",
    "def features_generator(mol2file, pdbfile, amino_acid_classes, cutoff, feature_type, exp=None):\n",
    "\n",
    "    ligand = mol2parser.Mol2Parser(mol2file)\n",
    "    ligand.parse()\n",
    "\n",
    "    extracted_protein_atoms = pdb_parser(pdbfile, amino_acid_classes)\n",
    "\n",
    "    groups = extracted_protein_atoms.keys()\n",
    "    feature_vector = defaultdict(list)\n",
    "\n",
    "    for group in groups:\n",
    "        for protein_element in protein_elements:\n",
    "            for ligand_element in ligand_elements:\n",
    "\n",
    "                try:\n",
    "                    ligand_coords = np.array(ligand.get_molecule(\n",
    "                        ligand_element, \"coords\"), dtype=\"float\").reshape(-1, 3)\n",
    "\n",
    "                except TypeError:\n",
    "                    continue\n",
    "\n",
    "                if extracted_protein_atoms[group][protein_element]:\n",
    "                    protein_coords = np.array(\n",
    "                        extracted_protein_atoms[group][protein_element], dtype=\"float\")\n",
    "\n",
    "                    distances = spatial.distance.cdist(\n",
    "                        ligand_coords, protein_coords).ravel()\n",
    "\n",
    "                    if feature_type == \"weighting_sum\":\n",
    "                        feature = weighting_sum(distances, cutoff, exp)\n",
    "                        \n",
    "                    if feature_type == \"counting_sum\":\n",
    "                        feature = counting_sum(distances, cutoff)\n",
    "\n",
    "                    if len(groups) > 1:\n",
    "                        name = group + \"_\" + protein_element + \"_\" + ligand_element\n",
    "                        \n",
    "                    else:\n",
    "                        name = protein_element + \"_\" + ligand_element\n",
    "                        \n",
    "                    feature_vector[name].append(feature)\n",
    "\n",
    "    return feature_vector"
   ]
  },
  {
   "cell_type": "code",
   "execution_count": null,
   "id": "16b9b2b9-e4b6-4261-825b-7883d3c3a8fb",
   "metadata": {
    "tags": []
   },
   "outputs": [],
   "source": [
    "#Generate feature vector for a directory of protein-ligand complexes.\n",
    "\n",
    "def complexes_feature_generator(pathfiles, amino_acid_classes, \n",
    "                                cutoff, feature_type, exp=None):\n",
    "    \n",
    "    entries = Path(pathfiles)\n",
    "    numbers = len(os.listdir(pathfiles))\n",
    "\n",
    "    bar = progressbar.ProgressBar(maxval=numbers).start()\n",
    "\n",
    "    feature_vectors = {}\n",
    "\n",
    "    for num, entry in enumerate(entries.iterdir()):\n",
    "    \n",
    "        num += 1\n",
    "\n",
    "        bar.update(num)\n",
    "\n",
    "        ligand_file = glob(str(entry) + \"\\*_ligand.mol2\")[0]\n",
    "        protein_file = glob(str(entry) + \"\\*_protein.pdb\")[0]\n",
    "\n",
    "        try: \n",
    "            fv = features_generator(ligand_file, protein_file,\n",
    "                                amino_acid_classes, cutoff, \n",
    "                                feature_type, exp=exp)\n",
    "            feature_vectors[entry.name] = fv\n",
    "        \n",
    "        except Exception:\n",
    "            continue\n",
    "            \n",
    "    return feature_vectors"
   ]
  },
  {
   "cell_type": "code",
   "execution_count": null,
   "id": "89919a5d-45f8-4d96-9280-61164117ca01",
   "metadata": {
    "tags": []
   },
   "outputs": [],
   "source": [
    "#Save generated feature vectors to csv for both RF-Score and GB-Score.\n",
    "\n",
    "def save_to_csv(feature_vectors, filename):\n",
    "    \n",
    "    df = pd.DataFrame.from_dict(feature_vectors, orient=\"index\")\n",
    "    df = df.applymap(lambda x: x[0], na_action=\"ignore\")\n",
    "    df = df.fillna(0.0)\n",
    "    \n",
    "    df.to_csv(filename, index=True, index_label=\"pdbid\")"
   ]
  },
  {
   "cell_type": "markdown",
   "id": "d1b896a0-c785-42fe-afcd-803df401c478",
   "metadata": {
    "jp-MarkdownHeadingCollapsed": true,
    "tags": []
   },
   "source": [
    "### 1-1-2- ECIF"
   ]
  },
  {
   "cell_type": "code",
   "execution_count": null,
   "id": "eceb1a17-c6ac-4d00-8c6f-0573eaadb73a",
   "metadata": {
    "tags": []
   },
   "outputs": [],
   "source": [
    "#Generate feature vector for a directory of protein-ligand complexes based on ECIF.\n",
    "#ECIF code is located at https://github.com/DIFACQUIM/ECIF.\n",
    "\n",
    "def complexes_feature_generator_ecif(pathfiles):\n",
    "    \n",
    "    entries = Path(pathfiles)\n",
    "    numbers = len(os.listdir(pathfiles))\n",
    "\n",
    "    bar = progressbar.ProgressBar(maxval=numbers).start()\n",
    "\n",
    "    ecif_feature_vectors = {}\n",
    "    ligand_descriptor_feature_vectors = {}\n",
    "\n",
    "    for num, entry in enumerate(entries.iterdir()):\n",
    "    \n",
    "        num += 1\n",
    "\n",
    "        bar.update(num)\n",
    "\n",
    "        ligand_file = glob(str(entry) + \"\\*_ligand.sdf\")[0]\n",
    "        protein_file = glob(str(entry) + \"\\*_protein.pdb\")[0]\n",
    "\n",
    "        try: \n",
    "            ECIF = ecif.GetECIF(protein_file, ligand_file, distance_cutoff=6.0)\n",
    "            ligand_descriptors = ecif.GetRDKitDescriptors(ligand_file)\n",
    "            ecif_feature_vectors[entry.name] = ECIF\n",
    "            ligand_descriptor_feature_vectors[entry.name] = ligand_descriptors\n",
    "        \n",
    "        except Exception:\n",
    "            continue\n",
    "        \n",
    "    return ligand_descriptor_feature_vectors, ecif_feature_vectors"
   ]
  },
  {
   "cell_type": "code",
   "execution_count": null,
   "id": "10b4198a-2c44-4882-ae93-4bb383e40f65",
   "metadata": {},
   "outputs": [],
   "source": [
    "#Save generated feature vectors to csv for ECIF.\n",
    "\n",
    "def save_to_csv_ecif(ligand_descriptor_feature_vectors, ecif_feature_vectors, filename):\n",
    "    \n",
    "    df2 = pd.DataFrame.from_dict(ligand_descriptor_feature_vectors, orient=\"index\", columns=ecif.LigandDescriptors)\n",
    "    df1 = pd.DataFrame.from_dict(ecif_feature_vectors, orient=\"index\", columns=ecif.PossibleECIF)\n",
    "    df3 = df1.join(df2)\n",
    "    \n",
    "    df3.to_csv(filename, index=True, index_label=\"pdbid\")"
   ]
  },
  {
   "cell_type": "markdown",
   "id": "2c4df28a-555c-44c6-89fb-bf2e94171a56",
   "metadata": {
    "jp-MarkdownHeadingCollapsed": true,
    "tags": []
   },
   "source": [
    "## 1-2- Ligand "
   ]
  },
  {
   "cell_type": "code",
   "execution_count": null,
   "id": "dd11a36c-5585-4a34-ac25-e3718dd1d5e0",
   "metadata": {
    "tags": []
   },
   "outputs": [],
   "source": [
    "# Generate feature vectors for ligand. \n",
    "\n",
    "def ligands_feature_generator(pathfiles, kind):\n",
    "\n",
    "    entries = Path(pathfiles)\n",
    "    numbers = len(os.listdir(pathfiles))\n",
    "\n",
    "    bar = progressbar.ProgressBar(maxval=numbers).start()\n",
    "\n",
    "    ligand_descriptor_feature_vectors = {}\n",
    "\n",
    "    for num, entry in enumerate(entries.iterdir()):\n",
    "\n",
    "        num += 1\n",
    "\n",
    "        bar.update(num)\n",
    "\n",
    "        ligand_file = glob(str(entry) + \"\\*_ligand.sdf\")[0]\n",
    "\n",
    "        if kind == \"rdkit\":\n",
    "\n",
    "            try:\n",
    "                \n",
    "                ligand_descriptors = ecif.GetRDKitDescriptors(ligand_file)\n",
    "                ligand_descriptor_feature_vectors[entry.name] = ligand_descriptors\n",
    "\n",
    "            except Exception:\n",
    "                continue\n",
    "\n",
    "        if kind == \"ChemBERTa-77M-MLM\":\n",
    "            \n",
    "            try:\n",
    "                mol = Chem.MolFromMolFile(ligand_file, sanitize=False)\n",
    "                mol.UpdatePropertyCache(strict=False)\n",
    "                \n",
    "                ligand_descriptors = transformer_chembert(mol)\n",
    "                ligand_descriptor_feature_vectors[entry.name] = ligand_descriptors[0]\n",
    "                \n",
    "            except Exception:\n",
    "                continue\n",
    "\n",
    "    return ligand_descriptor_feature_vectors"
   ]
  },
  {
   "cell_type": "code",
   "execution_count": null,
   "id": "24043c0e-b497-471b-8dd4-0988c4c1155d",
   "metadata": {
    "tags": []
   },
   "outputs": [],
   "source": [
    "#Save generated feature vectors to csv for ligand's descriptors.\n",
    "\n",
    "def save_to_csv_ligand(ligand_descriptor_feature_vectors, kind, filename):\n",
    "    \n",
    "    if kind == \"rdkit\":\n",
    "        \n",
    "        df = pd.DataFrame.from_dict(ligand_descriptor_feature_vectors, orient=\"index\", columns=ecif.LigandDescriptors)\n",
    "      \n",
    "    if kind == \"ChemBERTa-77M-MLM\":\n",
    "        \n",
    "        df = pd.DataFrame.from_dict(ligand_descriptor_feature_vectors, orient=\"index\")  \n",
    "        \n",
    "    df.to_csv(filename, index=True, index_label=\"pdbid\")"
   ]
  },
  {
   "cell_type": "markdown",
   "id": "1c8aa7bc-b754-4bc1-a53c-7e50625a4651",
   "metadata": {
    "jp-MarkdownHeadingCollapsed": true,
    "tags": []
   },
   "source": [
    "# 2- PDBbind 2020"
   ]
  },
  {
   "cell_type": "markdown",
   "id": "ba54ae31-4a4f-4f3d-ba1f-2a3c988f515d",
   "metadata": {
    "jp-MarkdownHeadingCollapsed": true,
    "tags": []
   },
   "source": [
    "## 2-1- Generate Feature Vectors"
   ]
  },
  {
   "cell_type": "markdown",
   "id": "39d7853f-f2cc-4a8c-8e2b-2ddd81c32057",
   "metadata": {
    "jp-MarkdownHeadingCollapsed": true,
    "tags": []
   },
   "source": [
    "**Necessarry Information**"
   ]
  },
  {
   "cell_type": "code",
   "execution_count": null,
   "id": "d2d7ccdb-95cd-445f-9d9a-940ab8b18f4c",
   "metadata": {
    "tags": []
   },
   "outputs": [],
   "source": [
    "# GB-Score amino acid classification.\n",
    "\n",
    "amino_acid_classes_1 = [\n",
    "    [\"ARG\", \"LYS\", \"ASP\", \"GLU\"],\n",
    "    [\"GLN\", \"ASN\", \"HIS\", \"SER\", \"THR\", \"CYS\"],\n",
    "    [\"TRP\", \"TYR\", \"MET\"],\n",
    "    [\"ILE\", \"LEU\", \"PHE\", \"VAL\", \"PRO\", \"GLY\", \"ALA\"],\n",
    "]\n",
    "\n",
    "# RF-Score amino acids classification (All AA in one class) \n",
    "\n",
    "amino_acid_classes_2 = [[\"ARG\", \"LYS\", \"ASP\", \"GLU\", \"GLN\", \"ASN\", \"HIS\", \n",
    "                        \"SER\", \"THR\", \"CYS\", \"TRP\", \"TYR\", \"MET\",\"ILE\", \n",
    "                        \"LEU\", \"PHE\", \"VAL\", \"PRO\", \"GLY\", \"ALA\"]]\n",
    "\n",
    "# Elemental atom types for ligand and protein. \n",
    "\n",
    "ligand_elements = [\"H\", \"C\", \"N\", \"O\", \"S\", \"P\", \"F\", \"Cl\", \"Br\", \"I\"]\n",
    "\n",
    "protein_elements = [\"H\", \"C\", \"N\", \"O\", \"S\"]"
   ]
  },
  {
   "cell_type": "markdown",
   "id": "9520bf96-9d36-479a-9635-214e8403ccb1",
   "metadata": {
    "jp-MarkdownHeadingCollapsed": true,
    "tags": []
   },
   "source": [
    "### 2-1-1- RF-Score Features"
   ]
  },
  {
   "cell_type": "code",
   "execution_count": null,
   "id": "f634eeab-b3db-4900-8589-23a8b401ffa6",
   "metadata": {},
   "outputs": [],
   "source": [
    "rf_score_features = complexes_feature_generator(pdbbind_refined_set_2020_path,\n",
    "                                                amino_acid_classes_2,\n",
    "                                                12,\n",
    "                                                \"counting_sum\",\n",
    "                                                exp=None)\n",
    "\n",
    "save_to_csv(rf_score_features, feature_vector_directory + \"\\\\rfscore_refined_set_2020.csv\")"
   ]
  },
  {
   "cell_type": "markdown",
   "id": "05a197be-12af-437d-b136-302f368614af",
   "metadata": {
    "jp-MarkdownHeadingCollapsed": true,
    "tags": []
   },
   "source": [
    "### 2-1-2- GB-Score Features"
   ]
  },
  {
   "cell_type": "code",
   "execution_count": null,
   "id": "d1686efa-779e-4b09-ac7f-aba011ef40bd",
   "metadata": {},
   "outputs": [],
   "source": [
    "gb_score_features = complexes_feature_generator(pdbbind_refined_set_2020_path, \n",
    "                                                amino_acid_classes_1,\n",
    "                                                12,\n",
    "                                                \"weighting_sum\",\n",
    "                                                exp=2)\n",
    "\n",
    "save_to_csv(gb_score_features, feature_vector_directory + \"\\\\gbscore_refined_set_2020.csv\")"
   ]
  },
  {
   "cell_type": "markdown",
   "id": "1abdd35c-0538-4c85-945e-ff07caeb63af",
   "metadata": {
    "jp-MarkdownHeadingCollapsed": true,
    "tags": []
   },
   "source": [
    "### 2-1-3- ECIF Features"
   ]
  },
  {
   "cell_type": "code",
   "execution_count": null,
   "id": "7bba31e3-a138-4be2-bd84-fb293847b490",
   "metadata": {},
   "outputs": [],
   "source": [
    "ligand_descriptor_feature_vectors, ecif_feature_vectors = complexes_feature_generator_ecif(pdbbind_refined_set_2020_path)\n",
    "\n",
    "save_to_csv_ecif(ligand_descriptor_feature_vectors, \n",
    "                 ecif_feature_vectors, \n",
    "                 feature_vector_directory + \"\\\\ecif_refined_set_2020.csv\")"
   ]
  },
  {
   "cell_type": "markdown",
   "id": "70b669e1-1d46-4aaf-9fb7-aeb0c1c1525e",
   "metadata": {
    "jp-MarkdownHeadingCollapsed": true,
    "tags": []
   },
   "source": [
    "### 2-1-4- RDKit Descriptors"
   ]
  },
  {
   "cell_type": "code",
   "execution_count": null,
   "id": "79646551-7af3-49bb-be03-7f0038a9e1e8",
   "metadata": {
    "tags": []
   },
   "outputs": [],
   "source": [
    "ligand_rdkit_feature_vectors = ligands_feature_generator(pdbbind_refined_set_2020_path, kind=\"rdkit\")\n",
    "\n",
    "save_to_csv_ligand(ligand_rdkit_feature_vectors,\n",
    "                   kind = \"rdkit\",\n",
    "                   filename = feature_vector_directory + \"\\\\ligand_rdkit_refined_set_2020.csv\")"
   ]
  },
  {
   "cell_type": "markdown",
   "id": "60780f7f-d17f-4500-ba3b-10453ed0e52f",
   "metadata": {
    "jp-MarkdownHeadingCollapsed": true,
    "tags": []
   },
   "source": [
    "### 2-1-5- ChemBERTa-77M-MLM Features"
   ]
  },
  {
   "cell_type": "code",
   "execution_count": null,
   "id": "a89880f9-f60c-44c4-9acf-4f277609444d",
   "metadata": {
    "tags": []
   },
   "outputs": [],
   "source": [
    "transformer_chembert = PretrainedHFTransformer(kind='ChemBERTa-77M-MLM', dtype=float)"
   ]
  },
  {
   "cell_type": "code",
   "execution_count": null,
   "id": "7cca5ebc-2f13-4774-b659-b4c0bbd3217a",
   "metadata": {
    "tags": []
   },
   "outputs": [],
   "source": [
    "ligand_bert_feature_vectors = ligands_feature_generator(pdbbind_refined_set_2020_path, kind=\"ChemBERTa-77M-MLM\")\n",
    "\n",
    "save_to_csv_ligand(ligand_bert_feature_vectors,\n",
    "                   kind = \"ChemBERTa-77M-MLM\",\n",
    "                   filename = feature_vector_directory + \"\\\\ligand_chembert_refined_set_2020.csv\")"
   ]
  },
  {
   "cell_type": "markdown",
   "id": "028eab2c-8fee-4f97-97e2-38da1ce4a4b0",
   "metadata": {
    "jp-MarkdownHeadingCollapsed": true,
    "tags": []
   },
   "source": [
    "### 2-1-6- Water Features"
   ]
  },
  {
   "cell_type": "code",
   "execution_count": null,
   "id": "8bd8c258-c72b-4e6b-9d72-13c7afa833b9",
   "metadata": {
    "tags": []
   },
   "outputs": [],
   "source": [
    "# Water features are generated based on the following paper:\n",
    "# J. Chem. Inf. Model. 2022, 62, 4369−4379 (https://doi.org/10.1021/acs.jcim.2c00916)\n",
    "# HydroMap 1.0 is used o predict potential water molecules in the protein binding pocket (http://www.sioc-ccbg.ac.cn/software/hydramap/):\n",
    "# 1- Place all _ligand.mol2, _ligand.sdf, and _protein.pdb files in a single folder (e.g. D:\\refined-set_2020-together)\n",
    "# 2- Place gen_wat4.sh, wsitem, and getwat in the mentioned folder \n",
    "# 3- Run the following commands in WSL cmd:\n",
    "# cd \"/mnt/d/refined-set_2020-together\"\n",
    "# ./gen_wat4.sh .\n",
    "# 4- At the end, for each complex a pdbid_wat4.pdb is generated.\n",
    "# After that, water features is generated by using HydraMapSF calFeature.py at https://github.com/xiaoyangqu/HydraMapSF:\n",
    "# 0- Create a new env: mamba create --name hydramap python=3.7 (Install the following library: Pandas, SciPy, RDkit (Mamba), PyMol(2.5.5)(Mamba))\n",
    "# 1- Activate hydramap: mamba activate hydramap\n",
    "# 2- Edit list_exp_2020, list_pdbid, and \"test_dir=\" at the end of the calFeature.py script and change function key (feat=\"hydra\") and put\n",
    "# list_pdbid and list_exp_2020 in \"D:\\refined-set_2020-together\".\n",
    "# 3- Run the following command: python calFeature.py \n",
    "# 4- Finally a file with the name hydra_11.5_1.0 is generated.\n",
    "# Caution: During water feature generation binding affinity values add to .csv file. Delete Them."
   ]
  },
  {
   "cell_type": "code",
   "execution_count": null,
   "id": "5b20cbd5-e172-4623-96ea-a9fbde1adf8c",
   "metadata": {
    "tags": []
   },
   "outputs": [],
   "source": [
    "# Make a \"refined-set_2020-together\" directory.\n",
    "\n",
    "destination_path = r\"\\refined-set_2020-together\"\n",
    "entries = Path(pdbbind_refined_set_2020_path)"
   ]
  },
  {
   "cell_type": "code",
   "execution_count": null,
   "id": "596267d3-aa31-473d-8a60-2271bb77cb34",
   "metadata": {
    "tags": []
   },
   "outputs": [],
   "source": [
    "file = open(\"files\\list_pdbid.txt\", \"a\")\n",
    "\n",
    "for num, entry in enumerate(entries.iterdir()):\n",
    "    \n",
    "    file.write(entry.name + \"\\n\")\n",
    "    \n",
    "    ligand_mol2_path = entry.joinpath(entry.name + \"_ligand.mol2\")\n",
    "    ligand_sdf_path = entry.joinpath(entry.name + \"_ligand.sdf\")\n",
    "    protein_pdb_path = entry.joinpath(entry.name + \"_protein.pdb\")\n",
    "    \n",
    "    shutil.copy2(ligand_mol2_path, destination_path)\n",
    "    shutil.copy2(ligand_sdf_path, destination_path)\n",
    "    shutil.copy2(protein_pdb_path, destination_path)\n",
    "\n",
    "file.close()"
   ]
  },
  {
   "cell_type": "code",
   "execution_count": null,
   "id": "eccfb26d-47f8-418c-9956-9d1f89f89df6",
   "metadata": {
    "tags": []
   },
   "outputs": [],
   "source": [
    "df = pd.read_csv(\"files\\refined_set_2020_binding_data.csv\").set_index(\"pdbid\")"
   ]
  },
  {
   "cell_type": "code",
   "execution_count": null,
   "id": "03a36292-a0e5-4753-a535-09293be51f99",
   "metadata": {
    "tags": []
   },
   "outputs": [],
   "source": [
    "with open(\"files\\list_pdbid.txt\", \"r\") as file:\n",
    "    \n",
    "    pdbids = file.readlines()\n",
    "    \n",
    "pdbids = [item.strip() for item in pdbids]"
   ]
  },
  {
   "cell_type": "code",
   "execution_count": null,
   "id": "cbccc5ad-9259-4598-9872-32abb030643c",
   "metadata": {
    "tags": []
   },
   "outputs": [],
   "source": [
    "df.loc[pdbids, :].to_csv(\"files\\list_exp_2020.csv\")"
   ]
  },
  {
   "cell_type": "code",
   "execution_count": null,
   "id": "efa1d605-e93c-4739-9110-78ffda2dc04b",
   "metadata": {
    "tags": []
   },
   "outputs": [],
   "source": [
    "wat_feat_df = pd.read_csv(\"hydra_11.5_1.csv\", axis=0, ignore_index=True).drop(columns=[\"binding_affinity\"])\n",
    "wat_feat_df.to_csv(feature_vector_directory + \"\\water_feature_refined_set_2020.csv\", index=False)"
   ]
  },
  {
   "cell_type": "markdown",
   "id": "55e153ae-c518-4164-905f-6252e10fd5fd",
   "metadata": {
    "jp-MarkdownHeadingCollapsed": true,
    "tags": []
   },
   "source": [
    "## 2-2- Training, Validating, and Testing"
   ]
  },
  {
   "cell_type": "code",
   "execution_count": null,
   "id": "5d3c269a-c9c8-4a19-97be-3c4c06c413d9",
   "metadata": {
    "tags": []
   },
   "outputs": [],
   "source": [
    "feature_vector_directory = r\".\\files\\feature_vector\"\n",
    "water_features_csv = feature_vector_directory + \"\\\\water_feature_refined_set_2020_full.csv\"\n",
    "rfscore_features_csv = feature_vector_directory + \"\\\\rfscore_refined_set_2020_full.csv\"\n",
    "gbscore_features_csv = feature_vector_directory + \"\\\\gbscore_refined_set_2020_full.csv\"\n",
    "ecif_features_csv = feature_vector_directory + \"\\\\ecif_refined_set_2020_full.csv\"\n",
    "rdkit_features_csv = feature_vector_directory + \"\\\\ligand_rdkit_refined_set_2020_full.csv\"\n",
    "chembert_features_csv = feature_vector_directory + \"\\\\ligand_chembert_refined_set_2020_full.csv\"\n",
    "binding_affinity_csv = \".\\files\\refined_set_2020_binding_data_full.csv\"\n",
    "core_set_2016_csv = \".\\files\\casf_core_set_2016.csv\"\n",
    "drive_path = \".\\files\\trained_model_and_results\\\""
   ]
  },
  {
   "cell_type": "markdown",
   "id": "09ceb93e-cda7-4b26-838f-ce72ff72506e",
   "metadata": {
    "jp-MarkdownHeadingCollapsed": true,
    "tags": []
   },
   "source": [
    "### 2-2-0- PDBbind 2020 Analysis"
   ]
  },
  {
   "cell_type": "code",
   "execution_count": null,
   "id": "7f81014b-48e8-42c2-907a-e830a16e51c8",
   "metadata": {
    "tags": []
   },
   "outputs": [],
   "source": [
    "df = pd.read_csv(binding_affinity_csv)"
   ]
  },
  {
   "cell_type": "code",
   "execution_count": null,
   "id": "842328ec-7db5-4565-a33b-cfa3eacaea47",
   "metadata": {
    "tags": []
   },
   "outputs": [],
   "source": [
    "plt.figure(figsize=(10, 8))\n",
    "plt.hist(df[\"binding_affinity\"], bins=12, rwidth=0.8, color=\"dodgerblue\", edgecolor=\"navy\")\n",
    "plt.xlabel(\"Binding Constant (-$logk_a$)\", fontsize=14)\n",
    "plt.ylabel(\"Occurrence\", fontsize=14)\n",
    "plt.title(\"Distribution of the Protein−Ligand Binding Constants (5335 Complexes)\", fontsize=16)\n",
    "plt.grid(True, ls=\"--\", lw=0.7, c=\"slategrey\")\n",
    "plt.savefig(\"Distribution of the Protein−Ligand Binding Constants.png\", dpi=300)\n",
    "plt.show()"
   ]
  },
  {
   "cell_type": "code",
   "execution_count": null,
   "id": "812a0c9a-45e2-499c-be11-1ad57e5fc6d9",
   "metadata": {
    "tags": []
   },
   "outputs": [],
   "source": [
    "rdkit_df = pd.read_csv(rdkit_features_csv)"
   ]
  },
  {
   "cell_type": "code",
   "execution_count": null,
   "id": "7f5417d3-aadd-4c84-b048-bf6f2cf2bf09",
   "metadata": {
    "tags": []
   },
   "outputs": [],
   "source": [
    "axes = rdkit_df.loc[:, [\"MolWt\", \"MolLogP\", \"HeavyAtomCount\", \"NumRotatableBonds\", \"NumHAcceptors\", \"NumHDonors\"]].hist(bins=12, \n",
    "                                                                                                                        rwidth=0.8, \n",
    "                                                                                                                        figsize=(10, 8), \n",
    "                                                                                                                        color=\"dodgerblue\", \n",
    "                                                                                                                        edgecolor=\"navy\",\n",
    "                                                                                                                        )\n",
    "for axe in axes.flatten():\n",
    "    axe.set_ylabel(\"Occurrence\")\n",
    "plt.tight_layout()\n",
    "plt.savefig(\"Distribution of Some Key Properties of Ligand.png\", dpi=300)\n",
    "plt.show()"
   ]
  },
  {
   "cell_type": "markdown",
   "id": "3a9fce87-ba05-4b8e-bb82-e63ad0fdffde",
   "metadata": {
    "jp-MarkdownHeadingCollapsed": true,
    "tags": []
   },
   "source": [
    "### 2-2-1- Feature Processing Functions"
   ]
  },
  {
   "cell_type": "code",
   "execution_count": null,
   "id": "3206653c-7eda-4d30-9b3b-f6ef7c3736cd",
   "metadata": {
    "tags": []
   },
   "outputs": [],
   "source": [
    "def preprocessing(data, var_threshold=0.01, corr_threshold=0.95):\n",
    "\n",
    "    \"\"\"\n",
    "    Preprocess features input pd.DataFrame and drop static, quasi-static and\n",
    "    correlated features. Return normalized and processed data in\n",
    "    pd.DataFrame, mean and std of data.\n",
    "\n",
    "     Parameters:\n",
    "        data (pd.DataFrame): Features file in pd.DataFrame.\n",
    "        var_threshold (float): Variance threshold. Features below this\n",
    "        threshold are discarded.\n",
    "        corr_threshold (float): Correlated features are discarded.\n",
    "\n",
    "     Returns:\n",
    "        data, mean, std (tuple): Return processed features and mean and std of all features.\n",
    "    \"\"\"\n",
    "\n",
    "    data = data.loc[:, data.var(axis=0) > var_threshold]\n",
    "\n",
    "    corr_matrix = data.corr().abs()\n",
    "    upper = corr_matrix.where(np.triu(np.ones(corr_matrix.shape), k=1).astype(bool))\n",
    "    to_drop = [\n",
    "        column for column in upper.columns if any(upper[column] > corr_threshold)\n",
    "    ]\n",
    "    data = data.drop(to_drop, axis=1)\n",
    "\n",
    "    mean = data.mean()\n",
    "    std = data.std()\n",
    "    data = (data - mean) / std\n",
    "\n",
    "    return data, mean, std"
   ]
  },
  {
   "cell_type": "code",
   "execution_count": null,
   "id": "b5a1b5b1-25ea-4501-8977-ffc44386d6d7",
   "metadata": {
    "tags": []
   },
   "outputs": [],
   "source": [
    "def data_spliter(data, core_set_id, val_set_size=0):\n",
    "\n",
    "    \"\"\"\n",
    "    Using \"core set id\" to splitted data to train and test set.\n",
    "    return dictionary contains train and test set (and val set) features and targets.\n",
    "\n",
    "     Parameters:\n",
    "        data (pd.DataFrame): Features file in pd.DataFrame.\n",
    "        core_set_id (csv): A csv file contain all pdbid of the core set (PDBbind 2016)\n",
    "        val_set_size (float): If not zero, indicate the percentage of data in validation set.\n",
    "        Validation set is created randomly with the stratified split method.\n",
    "\n",
    "     Returns:\n",
    "        sets (dict): Return dictionary contains train and test set (and val set) features and targets.\n",
    "    \"\"\"\n",
    "\n",
    "    test_set = data.loc[core_set_id, :]\n",
    "    train_set = data.drop(core_set_id, axis=0)\n",
    "\n",
    "    if val_set_size:\n",
    "\n",
    "        train_set[\"ba_cat\"] = np.ceil(train_set[\"binding_affinity\"] / 1.5)\n",
    "        train_set[\"ba_cat\"].where(train_set[\"ba_cat\"] < 8, 8, inplace=True)\n",
    "\n",
    "        split = StratifiedShuffleSplit(\n",
    "            n_splits=10, test_size=val_set_size, random_state=42\n",
    "        )\n",
    "\n",
    "        for train_index, val_index in split.split(train_set, train_set[\"ba_cat\"]):\n",
    "\n",
    "            strat_train_set = train_set.iloc[list(train_index), :]\n",
    "            strat_val_set = train_set.iloc[list(val_index), :]\n",
    "\n",
    "        strat_train_set.drop([\"ba_cat\"], axis=1, inplace=True)\n",
    "        strat_val_set.drop([\"ba_cat\"], axis=1, inplace=True)\n",
    "\n",
    "        x_train = strat_train_set.iloc[:, :-1]\n",
    "        y_train = strat_train_set.iloc[:, -1]\n",
    "        x_val = strat_val_set.iloc[:, :-1]\n",
    "        y_val = strat_val_set.iloc[:, -1]\n",
    "        x_test = test_set.iloc[:, :-1]\n",
    "        y_test = test_set.iloc[:, -1]\n",
    "\n",
    "        sets = {\n",
    "            \"x_train\": x_train,\n",
    "            \"y_train\": y_train,\n",
    "            \"x_val\": x_val,\n",
    "            \"y_val\": y_val,\n",
    "            \"x_test\": x_test,\n",
    "            \"y_test\": y_test,\n",
    "        }\n",
    "    else:\n",
    "\n",
    "        x_train = train_set.iloc[:, :-1]\n",
    "        y_train = train_set.iloc[:, -1]\n",
    "        x_test = test_set.iloc[:, :-1]\n",
    "        y_test = test_set.iloc[:, -1]\n",
    "\n",
    "        sets = {\n",
    "            \"x_train\": x_train,\n",
    "            \"y_train\": y_train,\n",
    "            \"x_test\": x_test,\n",
    "            \"y_test\": y_test,\n",
    "        }\n",
    "\n",
    "    return sets\n"
   ]
  },
  {
   "cell_type": "code",
   "execution_count": null,
   "id": "c72ae0e9-7f1c-4e2e-8237-b02649489192",
   "metadata": {
    "tags": []
   },
   "outputs": [],
   "source": [
    "def data_creator(binding_affinity_csv,\n",
    "                 core_set_2016_csv,\n",
    "                 structure_based_feat=None, \n",
    "                 ligand_based_feat=None,\n",
    "                 ligand_based_feat_name=None,\n",
    "                 water_based_feat=None,\n",
    "                 var_threshold=0.01, \n",
    "                 corr_threshold=0.95,\n",
    "                 val_set_size=0.1\n",
    "                ):\n",
    "    \n",
    "    \n",
    "    core_set_id = list(pd.read_csv(core_set_2016_csv)[\"pdbid\"])\n",
    "    y = pd.read_csv(binding_affinity_csv).set_index(\"pdbid\")\n",
    "    \n",
    "    X = pd.read_csv(structure_based_feat).set_index(\"pdbid\")\n",
    "    \n",
    "    X_sb_processed, X_sb_mean, X_sb_std = preprocessing(X, \n",
    "                                                        var_threshold, \n",
    "                                                        corr_threshold)\n",
    "        \n",
    "    if water_based_feat and ligand_based_feat:\n",
    "        \n",
    "        \n",
    "        X = pd.read_csv(ligand_based_feat).set_index(\"pdbid\")\n",
    "        \n",
    "        if ligand_based_feat_name == \"RDKit\":\n",
    "            \n",
    "            X_lb_processed, X_lb_mean, X_lb_std = preprocessing(X, \n",
    "                                                                var_threshold, \n",
    "                                                                corr_threshold)\n",
    "        else:\n",
    "            \n",
    "            X_lb_processed = X\n",
    "        \n",
    "        X = pd.read_csv(water_based_feat).set_index(\"pdbid\")\n",
    "        X_wb_processed, X_wb_mean, X_wb_std = preprocessing(X, \n",
    "                                                            var_threshold, \n",
    "                                                            corr_threshold)\n",
    "        \n",
    "        data = pd.concat([X_sb_processed, X_lb_processed, X_wb_processed, y], axis=1)\n",
    "        \n",
    "    elif ligand_based_feat:\n",
    "        \n",
    "        X = pd.read_csv(ligand_based_feat).set_index(\"pdbid\")\n",
    "        \n",
    "        if ligand_based_feat_name == \"RDKit\":\n",
    "            \n",
    "            X_lb_processed, X_lb_mean, X_lb_std = preprocessing(X, \n",
    "                                                                var_threshold, \n",
    "                                                                corr_threshold)\n",
    "        else:\n",
    "            \n",
    "            X_lb_processed = X\n",
    "        \n",
    "        data = pd.concat([X_sb_processed, X_lb_processed, y], axis=1)\n",
    "        \n",
    "    else:\n",
    "        \n",
    "        data = pd.concat([X_sb_processed, y], axis=1)\n",
    "        \n",
    "    \n",
    "    sets = data_spliter(data, core_set_id, val_set_size=val_set_size)\n",
    "    \n",
    "    return sets\n",
    "    "
   ]
  },
  {
   "cell_type": "markdown",
   "id": "4f3b565c-3b01-48e5-8d8b-852509d6099f",
   "metadata": {
    "jp-MarkdownHeadingCollapsed": true,
    "tags": []
   },
   "source": [
    "### 2-2-2- Learning "
   ]
  },
  {
   "cell_type": "code",
   "execution_count": null,
   "id": "41bf5028-fdd3-435e-8458-74ecf5336889",
   "metadata": {
    "tags": []
   },
   "outputs": [],
   "source": [
    "datasets = data_creator(binding_affinity_csv,\n",
    "                   core_set_2016_csv,\n",
    "                   structure_based_feat=ecif_features_csv,\n",
    "                   ligand_based_feat=None,\n",
    "                   ligand_based_feat_name=None,\n",
    "                   water_based_feat=None,\n",
    "                   var_threshold=0.01,\n",
    "                   corr_threshold=0.95,\n",
    "                   val_set_size=0.1)"
   ]
  },
  {
   "cell_type": "code",
   "execution_count": null,
   "id": "a04dbb18-4644-40de-9c60-ec9ec964ae01",
   "metadata": {},
   "outputs": [],
   "source": [
    "\"GBScore\", \"RFScore\", \"ECIF\", \"RDKit\", \"ChemBert\", \"HydraMap\""
   ]
  },
  {
   "cell_type": "code",
   "execution_count": null,
   "id": "3709ff8c-c743-493a-8972-aea6cf0e14f2",
   "metadata": {},
   "outputs": [],
   "source": [
    "structure_based_feature_name = \"RFScore\"\n",
    "ligand_based_feature_name = \"ChemBert\"\n",
    "water_based_feature_name = \"HydraMap\"\n",
    "name = structure_based_feature_name + \"_\" + ligand_based_feature_name + \"_\" + water_based_feature_name\n",
    "name"
   ]
  },
  {
   "cell_type": "code",
   "execution_count": null,
   "id": "cca18943-361d-418d-a089-6833a4f2ab1e",
   "metadata": {},
   "outputs": [],
   "source": [
    "for i in range(1, 11):\n",
    "\n",
    "    print(f\"Model: {name}_{i}\")\n",
    "\n",
    "    size = dataset['x_train'].shape[0]\n",
    "\n",
    "    dataset['x_train_subsample'] = dataset['x_train'].sample(int(size * 0.9))\n",
    "    dataset['y_train_subsample'] = dataset['y_train'].loc[list(dataset['x_train_subsample'].index)]\n",
    "    \n",
    "    xgb_reg = XGBRegressor(\n",
    "            n_estimators=20000,\n",
    "            max_depth=8,\n",
    "            learning_rate=0.005,\n",
    "            tree_method=\"gpu_hist\",\n",
    "            predictor=\"gpu_predictor\",\n",
    "            n_jobs=2\n",
    "            )\n",
    "\n",
    "    xgb_reg.fit(dataset[\"x_train_subsample\"], dataset[\"y_train_subsample\"])\n",
    "\n",
    "    y_pred_test = xgb_reg.predict(dataset[\"x_test\"])\n",
    "    pd.DataFrame(y_pred_test, dataset[\"x_test\"].index, \n",
    "             columns=[\"binding_affinity_pred\"]).to_csv(drive_path + f\"ba_test_pred_{name}_{i}.csv\")\n",
    "    rp = pearsonr(dataset[\"y_test\"], y_pred_test)[0]\n",
    "    rmse = np.sqrt(mean_squared_error(dataset[\"y_test\"], y_pred_test))\n",
    "    print(f\"Test - Rp: {rp:.3f} RMSE: {rmse:.3f}\")\n",
    "    \n",
    "    y_pred_val = xgb_reg.predict(dataset[\"x_val\"])\n",
    "    pd.DataFrame(y_pred_val, dataset[\"x_val\"].index, \n",
    "             columns=[\"binding_affinity_pred\"]).to_csv(drive_path + f\"ba_val_pred_{name}_{i}.csv\")\n",
    "    rp = pearsonr(dataset[\"y_val\"], y_pred_val)[0]\n",
    "    rmse = np.sqrt(mean_squared_error(dataset[\"y_val\"], y_pred_val))\n",
    "    print(f\"Validation - Rp: {rp:.3f} RMSE: {rmse:.3f}\\n\")\n",
    "\n",
    "    xgb_reg.save_model(drive_path + f\"xgb_{name}_{i}.json\")\n",
    "\n",
    "    print(\"---------------------------------------------\")"
   ]
  },
  {
   "cell_type": "markdown",
   "id": "9431ae16-92f7-49e7-a480-b54315aef87d",
   "metadata": {
    "jp-MarkdownHeadingCollapsed": true,
    "tags": []
   },
   "source": [
    "### 2-2-3- Scoring Power Results"
   ]
  },
  {
   "cell_type": "code",
   "execution_count": null,
   "id": "f629a31d-c5f5-4778-b0a5-38b91d1b634e",
   "metadata": {},
   "outputs": [],
   "source": [
    "for i in [\"GBScore\", \"RFScore\", \"ECIF\"]:\n",
    "    for j in [\"RDKit\", \"ChemBert\", \"None\"]:\n",
    "        for k in [\"HydraMap\", \"None\"]:\n",
    "            name = i + \"_\" + j + \"_\" + k\n",
    "\n",
    "            y_pred_test_all = []\n",
    "            y_pred_val_all = []\n",
    "            rp_test_all = []\n",
    "            rmse_test_all = []\n",
    "            rp_val_all = []\n",
    "            rmse_val_all = []\n",
    "\n",
    "            for item in range(1, 11):\n",
    "\n",
    "                y_pred_test_df = pd.read_csv(drive_path + f\"ba_test_pred_{name}_{item}.csv\")\n",
    "                y_pred_val_df = pd.read_csv(drive_path + f\"ba_val_pred_{name}_{item}.csv\")\n",
    "\n",
    "                rp = pearsonr(dataset[\"y_test\"], y_pred_test_df[\"binding_affinity_pred\"])[0]\n",
    "                rmse = np.sqrt(mean_squared_error(dataset[\"y_test\"], y_pred_test_df[\"binding_affinity_pred\"]))\n",
    "                rp_test_all.append(rp)\n",
    "                rmse_test_all.append(rmse)\n",
    "                y_pred_test_all.append(y_pred_test_df[\"binding_affinity_pred\"])\n",
    "\n",
    "                rp = pearsonr(dataset[\"y_val\"], y_pred_val_df[\"binding_affinity_pred\"])[0]\n",
    "                rmse = np.sqrt(mean_squared_error(dataset[\"y_val\"], y_pred_val_df[\"binding_affinity_pred\"]))\n",
    "                y_pred_val_all.append(y_pred_val_df[\"binding_affinity_pred\"])\n",
    "                rp_val_all.append(rp)\n",
    "                rmse_val_all.append(rmse)\n",
    "\n",
    "            rp_test_all.append(np.mean(rp_test_all))\n",
    "            rmse_test_all.append(np.mean(rmse_test_all))\n",
    "            rp_val_all.append(np.mean(rp_val_all))\n",
    "            rmse_val_all.append(np.mean(rmse_val_all))\n",
    "\n",
    "            rp = pearsonr(dataset[\"y_test\"], np.mean(y_pred_test_all, axis=0))[0]\n",
    "            rmse = np.sqrt(mean_squared_error(dataset[\"y_test\"], np.mean(y_pred_test_all, axis=0)))\n",
    "\n",
    "            rp_test_all.append(rp)\n",
    "            rmse_test_all.append(rmse)\n",
    "\n",
    "            rp = pearsonr(dataset[\"y_val\"],np.mean(y_pred_val_all, axis=0))[0]\n",
    "            rmse = np.sqrt(mean_squared_error(dataset[\"y_val\"], np.mean(y_pred_val_all, axis=0)))\n",
    "\n",
    "            rp_val_all.append(rp)\n",
    "            rmse_val_all.append(rmse)\n",
    "\n",
    "            df = pd.DataFrame([rp_test_all, rmse_test_all, rp_val_all, rmse_val_all], \n",
    "             index=[\"RP_Test\", \"RMSE_Test\", \"RP_Val\", \"RMSE_Val\"]).T.round(3)\n",
    "\n",
    "            df.to_csv(drive_path + name + \"_metrics.csv\")"
   ]
  },
  {
   "cell_type": "code",
   "execution_count": null,
   "id": "784d4f24-54b6-4051-9b3e-e86b0955e06d",
   "metadata": {},
   "outputs": [],
   "source": [
    "df_list = []\n",
    "\n",
    "for i in [\"GBScore\", \"RFScore\", \"ECIF\"]:\n",
    "    for j in [\"RDKit\", \"ChemBert\", \"None\"]:\n",
    "        for k in [\"HydraMap\", \"None\"]:\n",
    "\n",
    "            name = i + \"_\" + j + \"_\" + k\n",
    "            name_mean = name + \"_mean\"\n",
    "            name_ens = name + \"_ens\"\n",
    "\n",
    "            df = pd.read_csv(drive_path + name + \"_metrics.csv\", index_col=0).iloc[-2:, :]\n",
    "            df.rename(index={ 10: name_mean, 11: name_ens}, inplace=True)\n",
    "            df_list.append(df)\n",
    "\n",
    "metric_df = pd.concat(df_list)"
   ]
  },
  {
   "cell_type": "code",
   "execution_count": null,
   "id": "9f3ec16e-f228-4d19-8e8a-d3d6f5514de4",
   "metadata": {},
   "outputs": [],
   "source": [
    "metric_df.sort_values(by=[\"RP_Test\"], ascending=False, inplace=True)"
   ]
  },
  {
   "cell_type": "code",
   "execution_count": null,
   "id": "44195399-db6e-44d9-88e4-36d0b1f55856",
   "metadata": {
    "tags": []
   },
   "outputs": [],
   "source": [
    "dataset = data_creator(binding_affinity_csv,\n",
    "                   core_set_2016_csv,\n",
    "                   structure_based_feat=rfscore_features_csv,\n",
    "                   ligand_based_feat=rdkit_features_csv,\n",
    "                   ligand_based_feat_name=\"RDKit\",\n",
    "                   water_based_feat=water_features_csv,\n",
    "                   var_threshold=0.01,\n",
    "                   corr_threshold=0.95,\n",
    "                   val_set_size=0.1)"
   ]
  },
  {
   "cell_type": "code",
   "execution_count": null,
   "id": "d83c86d0-2ae9-45b8-9902-5416a334901b",
   "metadata": {},
   "outputs": [],
   "source": [
    "y_pred_test_all = []\n",
    "y_pred_val_all = []\n",
    "\n",
    "for name in [\"ECIF_RDKit_HydraMap\", \"GBScore_ChemBert_HydraMap\", \"RFScore_RDKit_HydraMap\"]:\n",
    "\n",
    "    for item in range(1, 11):\n",
    "    \n",
    "        y_pred_test_df = pd.read_csv(drive_path + f\"ba_test_pred_{name}_{item}.csv\")\n",
    "        y_pred_val_df = pd.read_csv(drive_path + f\"ba_val_pred_{name}_{item}.csv\")\n",
    "\n",
    "        y_pred_test_all.append(y_pred_test_df[\"binding_affinity_pred\"])\n",
    "        y_pred_val_all.append(y_pred_val_df[\"binding_affinity_pred\"])\n",
    "        \n",
    "\n",
    "rp = pearsonr(dataset[\"y_test\"], np.mean(y_pred_test_all, axis=0))[0]\n",
    "rmse = np.sqrt(mean_squared_error(dataset[\"y_test\"], np.mean(y_pred_test_all, axis=0)))\n",
    "print(f\"Test - Rp: {rp:.3f} RMSE: {rmse:.3f}\")\n",
    "\n",
    "rp = pearsonr(dataset[\"y_val\"], np.mean(y_pred_val_all, axis=0))[0]\n",
    "rmse = np.sqrt(mean_squared_error(dataset[\"y_val\"], np.mean(y_pred_val_all, axis=0)))\n",
    "print(f\"Val - Rp: {rp:.3f} RMSE: {rmse:.3f}\")"
   ]
  },
  {
   "cell_type": "code",
   "execution_count": null,
   "id": "59dbea0b-2e0c-497c-9245-72497bf3f59d",
   "metadata": {
    "tags": []
   },
   "outputs": [],
   "source": [
    "# for correlation of residual errors and fragment structure of ligand part.\n",
    "\n",
    "df = pd.DataFrame(np.mean(y_pred_test_all, axis=0), list(dataset[\"y_test\"].index), columns=[\"Score(pK)\"]).reset_index()\n",
    "df[\"Ligand\"] = df[\"index\"] + \"_ligand\"\n",
    "df[\"Receptor\"] = df[\"index\"] + \"_protein\"\n",
    "df.drop(\"index\", axis=1, inplace=True)\n",
    "df = df.iloc[:, [2, 1, 0]]\n",
    "df.to_csv(drive_path + \"ens-score_scores.csv\", index=True, index_label=\"Index\")"
   ]
  },
  {
   "cell_type": "code",
   "execution_count": null,
   "id": "19f80040-5656-41c5-aa5d-7d6ec43e69c6",
   "metadata": {
    "tags": []
   },
   "outputs": [],
   "source": [
    "pd.DataFrame(zip(np.mean(y_pred_test_all, axis=0).round(2), dataset[\"y_test\"].tolist()), \n",
    "             columns=[\"Target\", \"Predicted\"]).to_csv(drive_path + \"ens_score_results_test_set.csv\", index=False)"
   ]
  },
  {
   "cell_type": "code",
   "execution_count": null,
   "id": "4c59b842-b405-49dd-8e84-fa67959a350e",
   "metadata": {
    "tags": []
   },
   "outputs": [],
   "source": [
    "pd.DataFrame(zip(np.mean(y_pred_val_all, axis=0).round(2), dataset[\"y_val\"].tolist()), \n",
    "             columns=[\"Target\", \"Predicted\"]).to_csv(drive_path + \"ens_score_results_val_set.csv\", index=False)"
   ]
  },
  {
   "cell_type": "code",
   "execution_count": null,
   "id": "8dbf8ee2-676f-4283-ac05-98fa855cf420",
   "metadata": {
    "tags": []
   },
   "outputs": [],
   "source": [
    "sf1 = y_pred_test_all[:10]\n",
    "sf2 = y_pred_test_all[10:20]\n",
    "sf3 = y_pred_test_all[20:]"
   ]
  },
  {
   "cell_type": "code",
   "execution_count": null,
   "id": "e5d5c703-0c39-4909-8954-518b06381c3e",
   "metadata": {
    "tags": []
   },
   "outputs": [],
   "source": [
    "perf_list = defaultdict(list)\n",
    "\n",
    "for item in range(1, 11):\n",
    "    \n",
    "    rp_sf1 = pearsonr(dataset[\"y_test\"], np.mean(sf1[:item], axis=0))[0]\n",
    "    rmse_sf1 = np.sqrt(mean_squared_error(dataset[\"y_test\"], np.mean(sf1[:item], axis=0)))\n",
    "    \n",
    "    perf_list[\"rp_sf1\"].append(rp_sf1)\n",
    "    perf_list[\"rmse_sf1\"].append(rmse_sf1)\n",
    "    \n",
    "    rp_sf2 = pearsonr(dataset[\"y_test\"], np.mean(sf2[:item], axis=0))[0]\n",
    "    rmse_sf2 = np.sqrt(mean_squared_error(dataset[\"y_test\"], np.mean(sf2[:item], axis=0)))\n",
    "    \n",
    "    perf_list[\"rp_sf2\"].append(rp_sf2)\n",
    "    perf_list[\"rmse_sf2\"].append(rmse_sf2)\n",
    "    \n",
    "    rp_sf3 = pearsonr(dataset[\"y_test\"], np.mean(sf3[:item], axis=0))[0]\n",
    "    rmse_sf3 = np.sqrt(mean_squared_error(dataset[\"y_test\"], np.mean(sf3[:item], axis=0)))\n",
    "    \n",
    "    perf_list[\"rp_sf3\"].append(rp_sf3)\n",
    "    perf_list[\"rmse_sf3\"].append(rmse_sf3)    "
   ]
  },
  {
   "cell_type": "code",
   "execution_count": null,
   "id": "5685a9e2-d2ac-4da4-b969-ae975a37dcb9",
   "metadata": {
    "tags": []
   },
   "outputs": [],
   "source": [
    "plt.plot(range(1, 11), perf_list[\"rp_sf1\"], lw=2, color=\"crimson\", label=\"ECIF: RDKit: HydraMap: ens\")\n",
    "plt.plot(range(1, 11), perf_list[\"rp_sf2\"], lw=2, color=\"deepskyblue\", label=\"DWIC: ChemBert: HydraMap: ens\")\n",
    "plt.plot(range(1, 11), perf_list[\"rp_sf3\"], lw=2, color=\"forestgreen\", label=\"OIC: RDKit: HydraMap: ens\")\n",
    "plt.xlabel(\"Number of Models\", fontsize=12)\n",
    "plt.ylabel(\"$R_{P}$\", fontsize=12)\n",
    "plt.ylim(0.8, 0.85)\n",
    "plt.xticks(range(1, 11))\n",
    "plt.grid(True, ls=\"--\", lw=0.7, c=\"slategrey\")\n",
    "plt.tight_layout()\n",
    "plt.legend()\n",
    "plt.savefig(\"Rp vs Number of Models.png\", dpi=300)\n",
    "plt.show()"
   ]
  },
  {
   "cell_type": "code",
   "execution_count": null,
   "id": "7401ed8a-9632-495d-affc-fd57f0f74220",
   "metadata": {
    "tags": []
   },
   "outputs": [],
   "source": [
    "plt.plot(range(1, 11), perf_list[\"rmse_sf1\"], lw=2, color=\"crimson\", label=\"ECIF: RDKit: HydraMap: ens\")\n",
    "plt.plot(range(1, 11), perf_list[\"rmse_sf2\"], lw=2, color=\"deepskyblue\", label=\"DWIC: ChemBert: HydraMap: ens\")\n",
    "plt.plot(range(1, 11), perf_list[\"rmse_sf3\"], lw=2, color=\"forestgreen\", label=\"OIC: RDKit: HydraMap: ens\")\n",
    "plt.xlabel(\"Number of Models\", fontsize=12)\n",
    "plt.ylabel(\"$RMSE$\", fontsize=12)\n",
    "plt.ylim(1.20, 1.40)\n",
    "plt.xticks(range(1, 11))\n",
    "plt.grid(True, ls=\"--\", lw=0.7, c=\"slategrey\")\n",
    "plt.tight_layout()\n",
    "plt.legend()\n",
    "plt.savefig(\"RMSE vs Number of Models.png\", dpi=300)\n",
    "plt.show()"
   ]
  },
  {
   "cell_type": "code",
   "execution_count": null,
   "id": "20a04204-55f1-4337-b512-d6b9548fbff0",
   "metadata": {
    "tags": []
   },
   "outputs": [],
   "source": [
    "plt.text(9.5, 2, \"$R_P$ = 0.842 \\n$RMSE$ = 1.285\", fontsize=9)\n",
    "plt.scatter(dataset[\"y_test\"], np.mean(y_pred_test_all, axis=0), s=30, c=\"mediumseagreen\", linewidth=0.7, edgecolor=\"black\")\n",
    "plt.xlabel(\"Predicted Values\", fontsize=11)\n",
    "plt.ylabel(\"Experimental Values\", fontsize=12)\n",
    "plt.yticks(range(1, 13))\n",
    "plt.xticks(range(1, 13))\n",
    "plt.grid(True, ls=\"--\", lw=0.7, c=\"slategrey\")\n",
    "plt.title(\"Experimental vs Predicted Binding Affinity (Core Set 2016)\")\n",
    "plt.gca().set_aspect('equal')\n",
    "plt.tight_layout()\n",
    "plt.savefig(\"Experimental vs Predicted Binding Affinity (Core Set 2016).png\", dpi=300)\n",
    "plt.show()"
   ]
  },
  {
   "cell_type": "code",
   "execution_count": null,
   "id": "0aa3bda7-f933-4f27-a2b6-abc3e4609b05",
   "metadata": {
    "tags": []
   },
   "outputs": [],
   "source": [
    "plt.text(9.2, 2, \"$R_P$ = 0.846 \\n$RMSE$ = 1.048\", fontsize=9)\n",
    "plt.scatter(dataset[\"y_val\"], np.mean(y_pred_val_all, axis=0), s=30, c=\"steelblue\", linewidth=0.7, edgecolor=\"black\")\n",
    "plt.xlabel(\"Predicted Values\", fontsize=11)\n",
    "plt.ylabel(\"Experimental Values\", fontsize=12)\n",
    "plt.yticks(range(1, 13))\n",
    "plt.xticks(range(1, 13))\n",
    "plt.grid(True, ls=\"--\", lw=0.7, c=\"slategrey\")\n",
    "plt.title(\"Experimental vs Predicted Binding Affinity (Validation Set)\")\n",
    "plt.gca().set_aspect('equal')\n",
    "plt.tight_layout()\n",
    "plt.savefig(\"Experimental vs Predicted Binding Affinity (Validation Set).png\", dpi=300)\n",
    "plt.show()"
   ]
  },
  {
   "cell_type": "code",
   "execution_count": null,
   "id": "1598c49d-a0c1-43df-b1fc-4db086363d13",
   "metadata": {
    "tags": []
   },
   "outputs": [],
   "source": [
    "#\"GBScore\" = \"distance-weighted interatomic contacts\" = \"DWIC\"\n",
    "#\"RFScore\" = \"occurrence of interatomic contacts\" = \"OIC\"\n",
    "#\"extensive connectivity of interatomic fingerprints\" = \"ECIF\"\n",
    "# e.g. DWIC:RDKit:HydraMap:mean"
   ]
  },
  {
   "cell_type": "code",
   "execution_count": null,
   "id": "89730396-1d29-4da0-bf21-19abf356c1b1",
   "metadata": {
    "tags": []
   },
   "outputs": [],
   "source": [
    "df = pd.read_csv(drive_path + \"metrics_refined_set_2020.csv\")\n",
    "df = df.apply(lambda x: x.replace({\"RFScore\": \"OIC\", \"GBScore\": \"DWIC\", \"_\": \": \"}, regex=True))\n",
    "df.set_index(\"Unnamed: 0\").to_csv(drive_path + \"metrics_refined_set_2020_modif_names.csv\")"
   ]
  },
  {
   "cell_type": "code",
   "execution_count": null,
   "id": "e4bf05d7-5992-44e3-9146-be986cae5d79",
   "metadata": {
    "tags": []
   },
   "outputs": [],
   "source": [
    "df = pd.read_csv(drive_path + \"metrics_refined_set_2020_modif_names.csv\")"
   ]
  },
  {
   "cell_type": "code",
   "execution_count": null,
   "id": "afd34e9d-50b9-4f4c-8dfd-a6b09b63bf0c",
   "metadata": {
    "tags": []
   },
   "outputs": [],
   "source": [
    "models_dwic_based = [\"DWIC: None: None: mean\", \n",
    "                     \"DWIC: None: None: ens\", \n",
    "                     \"DWIC: None: HydraMap: mean\", \n",
    "                     \"DWIC: None: HydraMap: ens\",\n",
    "                     \"DWIC: RDKit: None: mean\", \n",
    "                     \"DWIC: RDKit: None: ens\",\n",
    "                     \"DWIC: ChemBert: None: mean\",\n",
    "                     \"DWIC: ChemBert: None: ens\",\n",
    "                     \"DWIC: RDKit: HydraMap: mean\",\n",
    "                     \"DWIC: RDKit: HydraMap: ens\",\n",
    "                     \"DWIC: ChemBert: HydraMap: mean\",\n",
    "                     \"DWIC: ChemBert: HydraMap: ens\"]\n",
    "\n",
    "dwic_metrics = {\"rp_test\":[0.795, 0.812, 0.797, 0.813, 0.786, 0.802, 0.793, 0.809, 0.805, 0.819, 0.809, 0.825],\n",
    "                \"rmse_test\": [1.366, 1.337, 1.360, 1.333, 1.383, 1.355, 1.390, 1.365, 1.347, 1.322, 1.358, 1.334],\n",
    "                \"rp_val\": [0.792, 0.806, 0.791, 0.805, 0.802, 0.815, 0.799, 0.812, 0.803, 0.815, 0.804, 0.816],\n",
    "                \"rmse_val\": [1.167, 1.134, 1.168, 1.136, 1.142, 1.110, 1.148, 1.117, 1.140, 1.112, 1.138, 1.111]}\n",
    "\n",
    "models_oic_based = [\"OIC: None: None: mean\", \n",
    "                    \"OIC: None: None: ens\", \n",
    "                    \"OIC: None: HydraMap: mean\", \n",
    "                    \"OIC: None: HydraMap: ens\",\n",
    "                    \"OIC: RDKit: None: mean\", \n",
    "                    \"OIC: RDKit: None: ens\",\n",
    "                    \"OIC: ChemBert: None: mean\",\n",
    "                    \"OIC: ChemBert: None: ens\",\n",
    "                    \"OIC: RDKit: HydraMap: mean\",\n",
    "                    \"OIC: RDKit: HydraMap: ens\",\n",
    "                    \"OIC: ChemBert: HydraMap: mean\",\n",
    "                    \"OIC: ChemBert: HydraMap: ens\"]\n",
    "\n",
    "oic_metrics = {\"rp_test\":[0.744, 0.765, 0.742, 0.764, 0.770, 0.786, 0.760, 0.776, 0.810, 0.824, 0.802, 0.816],\n",
    "               \"rmse_test\": [1.473, 1.438, 1.476, 1.440, 1.419, 1.392, 1.450, 1.426, 1.336, 1.311, 1.371, 1.350],\n",
    "               \"rp_val\": [0.743, 0.760, 0.747, 0.765, 0.784, 0.799, 0.766, 0.781, 0.796, 0.808, 0.793, 0.804],\n",
    "               \"rmse_val\": [1.281, 1.240, 1.270, 1.229, 1.185, 1.151, 1.227, 1.194, 1.157, 1.130, 1.166, 1.139]}\n",
    "\n",
    "models_ecif_based = [\"ECIF: None: None: mean\", \n",
    "                     \"ECIF: None: None: ens\", \n",
    "                     \"ECIF: None: HydraMap: mean\", \n",
    "                     \"ECIF: None: HydraMap: ens\",\n",
    "                     \"ECIF: RDKit: None: mean\", \n",
    "                     \"ECIF: RDKit: None: ens\",\n",
    "                     \"ECIF: ChemBert: None: mean\",\n",
    "                     \"ECIF: ChemBert: None: ens\",\n",
    "                     \"ECIF: RDKit: HydraMap: mean\",\n",
    "                     \"ECIF: RDKit: HydraMap: ens\",\n",
    "                     \"ECIF: ChemBert: HydraMap: mean\",\n",
    "                     \"ECIF: ChemBert: HydraMap: ens\"]\n",
    "\n",
    "ecif_metrics = {\"rp_test\":[0.788, 0.808, 0.786, 0.804, 0.797, 0.816, 0.771, 0.791, 0.821, 0.837, 0.814, 0.830],\n",
    "                \"rmse_test\": [1.388, 1.356, 1.393, 1.363, 1.360, 1.328, 1.439, 1.409, 1.300, 1.274, 1.341, 1.316],\n",
    "                \"rp_val\": [0.766, 0.781, 0.765, 0.779, 0.771, 0.784, 0.754, 0.768, 0.768, 0.780, 0.755, 0.767],\n",
    "                \"rmse_val\": [1.227, 1.194, 1.231, 1.197, 1.218, 1.186, 1.255, 1.224, 1.223, 1.195, 1.251, 1.226]}"
   ]
  },
  {
   "cell_type": "code",
   "execution_count": null,
   "id": "b08155f0-3b17-4aa1-8691-75ccde558d5d",
   "metadata": {
    "tags": []
   },
   "outputs": [],
   "source": [
    "colors = [\"indianred\"] * 12\n",
    "colors[::2] = [\"lightblue\"] * 6\n",
    "edgecolors = [\"crimson\"] * 12\n",
    "edgecolors[::2] = [\"darkcyan\"] * 6"
   ]
  },
  {
   "cell_type": "code",
   "execution_count": null,
   "id": "7946b64f-4f8c-4289-a97f-e7d2d453451d",
   "metadata": {
    "tags": []
   },
   "outputs": [],
   "source": [
    "fig, axes = plt.subplots(1, 3, sharey=True, figsize=(10, 8), layout=\"constrained\")\n",
    "fig.suptitle('Models $R_P$ Values (Core Set 2016)', fontsize=14)\n",
    "fig.text(0.5, 0, \"Models\", fontsize=14)\n",
    "num = 0\n",
    "axes[num].set_ylabel(\"$R_P$\", fontsize=14)\n",
    "for item in zip([models_oic_based, models_dwic_based, models_ecif_based], [oic_metrics, dwic_metrics, ecif_metrics]):\n",
    "        \n",
    "    axes[num].bar(item[0], item[1][\"rp_test\"], width=0.8, color=colors, edgecolor=edgecolors)\n",
    "    axes[num].set_ylim(0, 1)\n",
    "    axes[num].tick_params(labelrotation=90)\n",
    "    axes[num].grid(True, ls=\"--\", lw=0.7, c=\"slategrey\")\n",
    "        \n",
    "    num += 1\n",
    "\n",
    "plt.savefig(\"Models R_P Values (Core Set 2016).png\", dpi=300)\n",
    "plt.show()"
   ]
  },
  {
   "cell_type": "code",
   "execution_count": null,
   "id": "1e50a903-dcc9-43db-a5dd-d363571a1339",
   "metadata": {
    "tags": []
   },
   "outputs": [],
   "source": [
    "fig, axes = plt.subplots(1, 3, sharey=True, figsize=(10, 8), layout=\"constrained\")\n",
    "fig.suptitle('Models $R_P$ Values (Validation Set)', fontsize=14)\n",
    "fig.text(0.5, 0, \"Models\", fontsize=14)\n",
    "num = 0\n",
    "axes[num].set_ylabel(\"$R_P$\", fontsize=14)\n",
    "for item in zip([models_oic_based, models_dwic_based, models_ecif_based], [oic_metrics, dwic_metrics, ecif_metrics]):\n",
    "        \n",
    "    axes[num].bar(item[0], item[1][\"rp_val\"], width=0.8, color=colors, edgecolor=edgecolors)\n",
    "    axes[num].set_ylim(0, 1)\n",
    "    axes[num].tick_params(labelrotation=90)\n",
    "    axes[num].grid(True, ls=\"--\", lw=0.7, c=\"slategrey\")\n",
    "        \n",
    "    num += 1\n",
    "\n",
    "plt.savefig(\"Models R_P Values (Validation Set).png\", dpi=300)\n",
    "plt.show()"
   ]
  },
  {
   "cell_type": "code",
   "execution_count": null,
   "id": "fd88614a-2d7f-4ea8-ae9b-6b5f41551012",
   "metadata": {
    "tags": []
   },
   "outputs": [],
   "source": [
    "fig, axes = plt.subplots(1, 3, sharey=True, figsize=(10, 8), layout=\"constrained\")\n",
    "fig.suptitle('Models $RMSE$ Values (Core Set 2016)', fontsize=14)\n",
    "fig.text(0.5, 0, \"Models\", fontsize=14)\n",
    "num = 0\n",
    "axes[num].set_ylabel(\"$RMSE$\", fontsize=14)\n",
    "for item in zip([models_oic_based, models_dwic_based, models_ecif_based], [oic_metrics, dwic_metrics, ecif_metrics]):\n",
    "        \n",
    "    axes[num].bar(item[0], item[1][\"rmse_test\"], width=0.8, color=colors, edgecolor=edgecolors)\n",
    "    axes[num].set_ylim(0, 1.6)\n",
    "    axes[num].tick_params(labelrotation=90)\n",
    "    axes[num].grid(True, ls=\"--\", lw=0.7, c=\"slategrey\")\n",
    "        \n",
    "    num += 1\n",
    "\n",
    "plt.savefig(\"Models RMSE Values (Core Set 2016).png\", dpi=300)\n",
    "plt.show()"
   ]
  },
  {
   "cell_type": "code",
   "execution_count": null,
   "id": "a1cb505b-1ce2-4b9e-a8ac-a6ab3336d603",
   "metadata": {
    "tags": []
   },
   "outputs": [],
   "source": [
    "fig, axes = plt.subplots(1, 3, sharey=True, figsize=(10, 8), layout=\"constrained\")\n",
    "fig.suptitle('Models $RMSE$ Values (Validation Set)', fontsize=14)\n",
    "fig.text(0.5, 0, \"Models\", fontsize=14)\n",
    "num = 0\n",
    "axes[num].set_ylabel(\"$RMSE$\", fontsize=14)\n",
    "for item in zip([models_oic_based, models_dwic_based, models_ecif_based], [oic_metrics, dwic_metrics, ecif_metrics]):\n",
    "        \n",
    "    axes[num].bar(item[0], item[1][\"rmse_val\"], width=0.8, color=colors, edgecolor=edgecolors)\n",
    "    axes[num].set_ylim(0, 1.6)\n",
    "    axes[num].tick_params(labelrotation=90)\n",
    "    axes[num].grid(True, ls=\"--\", lw=0.7, c=\"slategrey\")\n",
    "        \n",
    "    num += 1\n",
    "\n",
    "plt.savefig(\"Models RMSE Values (Validation Set).png\", dpi=300)\n",
    "plt.show()"
   ]
  },
  {
   "cell_type": "markdown",
   "id": "430702c2-cb5c-4e61-bf45-f98aa432af32",
   "metadata": {
    "jp-MarkdownHeadingCollapsed": true,
    "tags": []
   },
   "source": [
    "# 3- Uncertainty Quantification"
   ]
  },
  {
   "cell_type": "code",
   "execution_count": null,
   "id": "b2782591-8e62-4c03-ade8-6a7a43fc14f1",
   "metadata": {
    "tags": []
   },
   "outputs": [],
   "source": [
    "feature_vector_directory = r\".\\files\\feature_vector\"\n",
    "water_features_csv = feature_vector_directory + \"\\\\water_feature_refined_set_2020_full.csv\"\n",
    "rfscore_features_csv = feature_vector_directory + \"\\\\rfscore_refined_set_2020_full.csv\"\n",
    "gbscore_features_csv = feature_vector_directory + \"\\\\gbscore_refined_set_2020_full.csv\"\n",
    "ecif_features_csv = feature_vector_directory + \"\\\\ecif_refined_set_2020_full.csv\"\n",
    "rdkit_features_csv = feature_vector_directory + \"\\\\ligand_rdkit_refined_set_2020_full.csv\"\n",
    "chembert_features_csv = feature_vector_directory + \"\\\\ligand_chembert_refined_set_2020_full.csv\"\n",
    "binding_affinity_csv = \".\\files\\refined_set_2020_binding_data_full.csv\"\n",
    "core_set_2016_csv = \".\\files\\casf_core_set_2016.csv\""
   ]
  },
  {
   "cell_type": "code",
   "execution_count": null,
   "id": "90a619bc-4c6f-42fa-b089-d4c7bea75a1e",
   "metadata": {
    "tags": []
   },
   "outputs": [],
   "source": [
    "dataset = data_creator(binding_affinity_csv,\n",
    "                   core_set_2016_csv,\n",
    "                   structure_based_feat=rfscore_features_csv,\n",
    "                   ligand_based_feat=rdkit_features_csv,\n",
    "                   ligand_based_feat_name=\"RDKit\",\n",
    "                   water_based_feat=water_features_csv,\n",
    "                   var_threshold=0.01,\n",
    "                   corr_threshold=0.95,\n",
    "                   val_set_size=0.1)"
   ]
  },
  {
   "cell_type": "code",
   "execution_count": null,
   "id": "0382424b-db2d-4166-ba58-ae9944c20941",
   "metadata": {
    "tags": []
   },
   "outputs": [],
   "source": [
    "drive_path = \"refined_set_2020_results\\\\\"\n",
    "y_pred_test_all = []\n",
    "y_pred_val_all = []\n",
    "\n",
    "for name in [\"ECIF_RDKit_HydraMap\", \"GBScore_ChemBert_HydraMap\", \"RFScore_RDKit_HydraMap\"]:\n",
    "\n",
    "    for item in range(1, 11):\n",
    "    \n",
    "        y_pred_test_df = pd.read_csv(drive_path + f\"ba_test_pred_{name}_{item}.csv\")\n",
    "        y_pred_val_df = pd.read_csv(drive_path + f\"ba_val_pred_{name}_{item}.csv\")\n",
    "\n",
    "        y_pred_test_all.append(y_pred_test_df[\"binding_affinity_pred\"])\n",
    "        y_pred_val_all.append(y_pred_val_df[\"binding_affinity_pred\"])\n",
    "        \n",
    "\n",
    "y_pred_val_ensemble_mean = np.mean(y_pred_val_all, axis=0)\n",
    "y_pred_val_ensemble_std = np.std(y_pred_val_all, axis=0)\n",
    "\n",
    "y_pred_test_ensemble_mean = np.mean(y_pred_test_all, axis=0)\n",
    "y_pred_test_ensemble_std = np.std(y_pred_test_all, axis=0)"
   ]
  },
  {
   "cell_type": "code",
   "execution_count": null,
   "id": "272f3792-fc50-46df-9cdd-03cfb470c747",
   "metadata": {
    "tags": []
   },
   "outputs": [],
   "source": [
    "nonconformity_values = abs((y_pred_val_ensemble_mean - np.array(dataset['y_val']))/np.exp(y_pred_val_ensemble_std))\n",
    "nonconformity_values.sort()\n",
    "per_80 = np.percentile(nonconformity_values, 80)\n",
    "\n",
    "print(f\"80th percentile: {per_80:.3f}\")"
   ]
  },
  {
   "cell_type": "code",
   "execution_count": null,
   "id": "769dc1c3-6ec7-4918-be5f-cd5e6f55e268",
   "metadata": {
    "tags": []
   },
   "outputs": [],
   "source": [
    "confidence_region = np.exp(y_pred_test_ensemble_std) * per_80"
   ]
  },
  {
   "cell_type": "code",
   "execution_count": null,
   "id": "3ce576a4-277e-42b0-a866-041461598d9b",
   "metadata": {
    "tags": []
   },
   "outputs": [],
   "source": [
    "result_cp_df = pd.DataFrame({\"Confidence Region\": confidence_region,\n",
    "              \"Mean Prediction\": y_pred_test_ensemble_mean,\n",
    "              \"Max Prediction\": y_pred_test_ensemble_mean + confidence_region,\n",
    "              \"Min Prediction\": y_pred_test_ensemble_mean - confidence_region,\n",
    "              \"Experimental\": dataset['y_test']})"
   ]
  },
  {
   "cell_type": "code",
   "execution_count": null,
   "id": "015cfe94-feb7-438c-a809-6e45df720a62",
   "metadata": {
    "tags": []
   },
   "outputs": [],
   "source": [
    "result_cp_df.to_csv(drive_path + \"CI_CASF2016.csv\")\n",
    "result_cp_df.describe().to_csv(drive_path + \"CI_statistics_CASF2016.csv\")"
   ]
  },
  {
   "cell_type": "code",
   "execution_count": null,
   "id": "f0042d0f-657d-43cd-a35b-ce5989cd6ef4",
   "metadata": {
    "tags": []
   },
   "outputs": [],
   "source": [
    "result_cp_df80 = result_cp_df[(result_cp_df['Experimental']<result_cp_df['Max Prediction'])\n",
    "                       & (result_cp_df['Experimental']>result_cp_df['Min Prediction'])]\n",
    "\n",
    "num = result_cp_df80.shape[0] \n",
    "print(f\"Number of test data in confidence interval: {num} or {num/285:.2f}%\")"
   ]
  },
  {
   "cell_type": "code",
   "execution_count": null,
   "id": "9e515a1e-2b00-413c-837a-9d0f36a15e04",
   "metadata": {
    "tags": []
   },
   "outputs": [],
   "source": [
    "result_cp_df80_2 = result_cp_df[(result_cp_df['Confidence Region']<1.2) & \n",
    "                (result_cp_df['Experimental']<result_cp_df['Max Prediction']) &\n",
    "                (result_cp_df['Experimental']>result_cp_df['Min Prediction'])]\n",
    "\n",
    "num = result_cp_df80_2.shape[0] \n",
    "print(f\"Number of test data in confidence interval below 2.0: {num} or {num/285:.2f}\")"
   ]
  },
  {
   "cell_type": "code",
   "execution_count": null,
   "id": "b70773a4-4576-480a-be38-c48e974b289f",
   "metadata": {
    "tags": []
   },
   "outputs": [],
   "source": [
    "plt.figure(figsize=(10, 8))\n",
    "plt.hist(result_cp_df['Confidence Region'], color=\"mediumseagreen\", edgecolor=\"darkslategrey\", linewidth=1.7)\n",
    "plt.xlabel(\"Size of Confidence Region\", fontsize=14)\n",
    "plt.ylabel(\"Number of Data\", fontsize=14)\n",
    "plt.grid(True, ls=\"--\", lw=0.9, c=\"darkgrey\")\n",
    "plt.savefig(\"hist_CI_CASF2016.png\", dpi=300)\n",
    "plt.show()"
   ]
  },
  {
   "cell_type": "code",
   "execution_count": null,
   "id": "386555f3-2db0-4777-b020-26ee2ecbd15e",
   "metadata": {
    "tags": []
   },
   "outputs": [],
   "source": [
    "plt.text(9.5, 2, \"$R_P$ = 0.842 \\n$RMSE$ = 1.285\", fontsize=9)\n",
    "plt.scatter(result_cp_df[\"Experimental\"], y_pred_test_ensemble_mean, s=30, c=result_cp_df[\"Confidence Region\"].tolist(),  cmap=matplotlib.colormaps['plasma'])\n",
    "plt.xlabel(\"Predicted Values\", fontsize=11)\n",
    "plt.ylabel(\"Experimental Values\", fontsize=12)\n",
    "plt.colorbar(label=\"Size of Confidence Region\")\n",
    "plt.yticks(range(1, 13))\n",
    "plt.xticks(range(1, 13))\n",
    "plt.grid(True, ls=\"--\", lw=0.7, c=\"slategrey\")\n",
    "plt.gca().set_aspect('equal')\n",
    "plt.tight_layout()\n",
    "plt.savefig(\"Experimental vs Predicted Binding Affinity with Confidence Values (Core Set 2016).png\", dpi=300)\n",
    "plt.show()"
   ]
  },
  {
   "cell_type": "code",
   "execution_count": null,
   "id": "2227626f-eb9c-4144-bac7-345c940fcfb0",
   "metadata": {
    "tags": []
   },
   "outputs": [],
   "source": [
    "plt.scatter(result_cp_df[\"Experimental\"], result_cp_df[\"Confidence Region\"], s=30, c=result_cp_df[\"Confidence Region\"], cmap=matplotlib.colormaps['plasma'])\n",
    "plt.xlabel(\"Experimental Values\", fontsize=11)\n",
    "plt.ylabel(\"Confidence Values\", fontsize=12)\n",
    "plt.colorbar(label=\"Size of Confidence Region\", orientation='horizontal')\n",
    "plt.yticks(range(1, 5))\n",
    "#plt.xticks(range(1, 13))\n",
    "plt.grid(True, ls=\"--\", lw=0.7, c=\"slategrey\")\n",
    "plt.gca().set_aspect('equal')\n",
    "plt.tight_layout()\n",
    "plt.savefig(\"Confidence Values vs Experimental Values (Core Set 2016).png\", dpi=300)\n",
    "plt.show()"
   ]
  },
  {
   "cell_type": "code",
   "execution_count": null,
   "id": "d0ca3d8b-d729-4028-be0d-827035e45d8b",
   "metadata": {
    "tags": []
   },
   "outputs": [],
   "source": [
    "spearmanr(result_cp_df[\"Experimental\"], result_cp_df[\"Confidence Region\"])[0]"
   ]
  },
  {
   "cell_type": "code",
   "execution_count": null,
   "id": "1d282b62-84d6-4c17-8316-a95d721d4077",
   "metadata": {},
   "outputs": [],
   "source": [
    "df = pd.read_csv(drive_path + \"CI_CASF2016.csv\", index_col=0)"
   ]
  },
  {
   "cell_type": "code",
   "execution_count": null,
   "id": "68b17505-69b9-484d-a786-44a403040570",
   "metadata": {
    "tags": []
   },
   "outputs": [],
   "source": [
    "df[df[\"Confidence Region\"] < 1.2].shape[0] / 285"
   ]
  },
  {
   "cell_type": "code",
   "execution_count": null,
   "id": "3d01cf0f-22d9-48b3-b832-8cf8cb0e356e",
   "metadata": {
    "tags": []
   },
   "outputs": [],
   "source": [
    "df[df[\"Confidence Region\"] < 1.2].shape[0]"
   ]
  }
 ],
 "metadata": {
  "kernelspec": {
   "display_name": "Python 3 (ipykernel)",
   "language": "python",
   "name": "python3"
  },
  "language_info": {
   "codemirror_mode": {
    "name": "ipython",
    "version": 3
   },
   "file_extension": ".py",
   "mimetype": "text/x-python",
   "name": "python",
   "nbconvert_exporter": "python",
   "pygments_lexer": "ipython3",
   "version": "3.8.16"
  }
 },
 "nbformat": 4,
 "nbformat_minor": 5
}
